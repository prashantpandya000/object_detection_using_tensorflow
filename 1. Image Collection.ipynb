{
 "cells": [
  {
   "cell_type": "markdown",
   "metadata": {},
   "source": [
    "# 1. Import Dependencies"
   ]
  },
  {
   "cell_type": "code",
   "execution_count": 4,
   "metadata": {},
   "outputs": [
    {
     "name": "stdout",
     "output_type": "stream",
     "text": [
      "Requirement already satisfied: opencv-python in d:\\project_tensorflow\\tfod\\lib\\site-packages (4.5.2.54)\n",
      "Requirement already satisfied: numpy>=1.19.3 in d:\\project_tensorflow\\tfod\\lib\\site-packages (from opencv-python) (1.21.0)\n"
     ]
    }
   ],
   "source": [
    "!pip install opencv-python"
   ]
  },
  {
   "cell_type": "code",
   "execution_count": 2,
   "metadata": {},
   "outputs": [],
   "source": [
    "# Import opencv\n",
    "import cv2 \n",
    "\n",
    "# Import uuid\n",
    "import uuid\n",
    "\n",
    "# Import Operating System\n",
    "import os\n",
    "\n",
    "# Import time\n",
    "import time"
   ]
  },
  {
   "cell_type": "markdown",
   "metadata": {},
   "source": [
    "# 2. Define Images to Collect"
   ]
  },
  {
   "cell_type": "code",
   "execution_count": 6,
   "metadata": {},
   "outputs": [],
   "source": [
    "labels = ['shadowclone', 'tiger', 'boar', 'monkey']\n",
    "number_imgs = 10"
   ]
  },
  {
   "cell_type": "code",
   "execution_count": 14,
   "metadata": {},
   "outputs": [],
   "source": [
    "labels = ['shadowclone']"
   ]
  },
  {
   "cell_type": "code",
   "execution_count": 7,
   "metadata": {},
   "outputs": [
    {
     "data": {
      "text/plain": [
       "['shadowclone', 'tiger', 'boar', 'monkey']"
      ]
     },
     "execution_count": 7,
     "metadata": {},
     "output_type": "execute_result"
    }
   ],
   "source": [
    "list(labels)"
   ]
  },
  {
   "cell_type": "markdown",
   "metadata": {},
   "source": [
    "# 3. Setup Folders "
   ]
  },
  {
   "cell_type": "code",
   "execution_count": 9,
   "metadata": {},
   "outputs": [],
   "source": [
    "IMAGES_PATH = os.path.join('Tensorflow', 'workspace', 'images', 'collectedimages')"
   ]
  },
  {
   "cell_type": "code",
   "execution_count": 10,
   "metadata": {},
   "outputs": [],
   "source": [
    "if not os.path.exists(IMAGES_PATH):\n",
    "    if os.name == 'posix':\n",
    "        !mkdir -p {IMAGES_PATH}\n",
    "    if os.name == 'nt':\n",
    "         !mkdir {IMAGES_PATH}\n",
    "for label in labels:\n",
    "    path = os.path.join(IMAGES_PATH, label)\n",
    "    if not os.path.exists(path):\n",
    "        !mkdir {path}"
   ]
  },
  {
   "cell_type": "markdown",
   "metadata": {},
   "source": [
    "# 4. Capture Images"
   ]
  },
  {
   "cell_type": "code",
   "execution_count": 15,
   "metadata": {},
   "outputs": [
    {
     "name": "stdout",
     "output_type": "stream",
     "text": [
      "Collecting images for shadowclone\n",
      "Collecting image 0\n",
      "Collecting image 1\n",
      "Collecting image 2\n",
      "Collecting image 3\n",
      "Collecting image 4\n",
      "Collecting image 5\n",
      "Collecting image 6\n",
      "Collecting image 7\n",
      "Collecting image 8\n",
      "Collecting image 9\n"
     ]
    }
   ],
   "source": [
    "for label in labels:\n",
    "    cap = cv2.VideoCapture(0)\n",
    "    print('Collecting images for {}'.format(label))\n",
    "    time.sleep(5)\n",
    "    for imgnum in range(number_imgs):\n",
    "        print('Collecting image {}'.format(imgnum))\n",
    "        ret, frame = cap.read()\n",
    "        imgname = os.path.join(IMAGES_PATH,label,label+'.'+'{}.jpg'.format(str(uuid.uuid1())))\n",
    "        cv2.imwrite(imgname, frame)\n",
    "        cv2.imshow('frame', frame)\n",
    "        time.sleep(6)\n",
    "\n",
    "        if cv2.waitKey(1) & 0xFF == ord('q'):\n",
    "            break\n",
    "cap.release()\n",
    "cv2.destroyAllWindows()"
   ]
  },
  {
   "cell_type": "markdown",
   "metadata": {},
   "source": [
    "# 5. Image Labelling"
   ]
  },
  {
   "cell_type": "code",
   "execution_count": 16,
   "metadata": {},
   "outputs": [
    {
     "name": "stdout",
     "output_type": "stream",
     "text": [
      "Collecting pyqt5\n",
      "  Downloading PyQt5-5.15.4-cp36.cp37.cp38.cp39-none-win_amd64.whl (6.8 MB)\n",
      "Collecting lxml\n",
      "  Downloading lxml-4.6.3-cp39-cp39-win_amd64.whl (3.5 MB)\n",
      "Collecting PyQt5-Qt5>=5.15\n",
      "  Downloading PyQt5_Qt5-5.15.2-py3-none-win_amd64.whl (50.1 MB)\n",
      "Collecting PyQt5-sip<13,>=12.8\n",
      "  Downloading PyQt5_sip-12.9.0-cp39-cp39-win_amd64.whl (63 kB)\n",
      "Installing collected packages: PyQt5-sip, PyQt5-Qt5, pyqt5, lxml\n",
      "Successfully installed PyQt5-Qt5-5.15.2 PyQt5-sip-12.9.0 lxml-4.6.3 pyqt5-5.15.4\n"
     ]
    }
   ],
   "source": [
    "!pip install --upgrade pyqt5 lxml"
   ]
  },
  {
   "cell_type": "code",
   "execution_count": 17,
   "metadata": {},
   "outputs": [],
   "source": [
    "LABELIMG_PATH = os.path.join('Tensorflow', 'labelimg')"
   ]
  },
  {
   "cell_type": "code",
   "execution_count": 19,
   "metadata": {},
   "outputs": [],
   "source": [
    "if not os.path.exists(LABELIMG_PATH):\n",
    "    !mkdir {LABELIMG_PATH}\n",
    "    !git clone https://github.com/tzutalin/labelImg {LABELIMG_PATH}"
   ]
  },
  {
   "cell_type": "code",
   "execution_count": 20,
   "metadata": {},
   "outputs": [],
   "source": [
    "if os.name == 'posix':\n",
    "    !make qt5py3\n",
    "if os.name =='nt':\n",
    "    !cd {LABELIMG_PATH} && pyrcc5 -o libs/resources.py resources.qrc"
   ]
  },
  {
   "cell_type": "code",
   "execution_count": 21,
   "metadata": {},
   "outputs": [
    {
     "name": "stdout",
     "output_type": "stream",
     "text": [
      "Image:D:\\project_tensorflow\\TFODCourse\\Tensorflow\\workspace\\images\\collectedimages\\boar\\boar.2c397e16-d6be-11eb-861e-dc1ba1f141a3.jpg -> Annotation:D:/project_tensorflow/TFODCourse/Tensorflow/workspace/images/collectedimages/boar/boar.2c397e16-d6be-11eb-861e-dc1ba1f141a3.xml\n",
      "Image:D:\\project_tensorflow\\TFODCourse\\Tensorflow\\workspace\\images\\collectedimages\\boar\\boar.2fd24dcf-d6be-11eb-9064-dc1ba1f141a3.jpg -> Annotation:D:/project_tensorflow/TFODCourse/Tensorflow/workspace/images/collectedimages/boar/boar.2fd24dcf-d6be-11eb-9064-dc1ba1f141a3.xml\n",
      "Image:D:\\project_tensorflow\\TFODCourse\\Tensorflow\\workspace\\images\\collectedimages\\boar\\boar.3a9cb09c-d6be-11eb-8d23-dc1ba1f141a3.jpg -> Annotation:D:/project_tensorflow/TFODCourse/Tensorflow/workspace/images/collectedimages/boar/boar.3a9cb09c-d6be-11eb-8d23-dc1ba1f141a3.xml\n",
      "Image:D:\\project_tensorflow\\TFODCourse\\Tensorflow\\workspace\\images\\collectedimages\\boar\\boar.3e355ed9-d6be-11eb-a138-dc1ba1f141a3.jpg -> Annotation:D:/project_tensorflow/TFODCourse/Tensorflow/workspace/images/collectedimages/boar/boar.3e355ed9-d6be-11eb-a138-dc1ba1f141a3.xml\n",
      "Image:D:\\project_tensorflow\\TFODCourse\\Tensorflow\\workspace\\images\\collectedimages\\boar\\boar.41ce82d5-d6be-11eb-8cf0-dc1ba1f141a3.jpg -> Annotation:D:/project_tensorflow/TFODCourse/Tensorflow/workspace/images/collectedimages/boar/boar.41ce82d5-d6be-11eb-8cf0-dc1ba1f141a3.xml\n",
      "Image:D:\\project_tensorflow\\TFODCourse\\Tensorflow\\workspace\\images\\collectedimages\\boar\\boar.289f815f-d6be-11eb-bf1f-dc1ba1f141a3.jpg -> Annotation:D:/project_tensorflow/TFODCourse/Tensorflow/workspace/images/collectedimages/boar/boar.289f815f-d6be-11eb-bf1f-dc1ba1f141a3.xml\n",
      "Image:D:\\project_tensorflow\\TFODCourse\\Tensorflow\\workspace\\images\\collectedimages\\boar\\boar.336bd9b3-d6be-11eb-b98e-dc1ba1f141a3.jpg -> Annotation:D:/project_tensorflow/TFODCourse/Tensorflow/workspace/images/collectedimages/boar/boar.336bd9b3-d6be-11eb-b98e-dc1ba1f141a3.xml\n",
      "Image:D:\\project_tensorflow\\TFODCourse\\Tensorflow\\workspace\\images\\collectedimages\\boar\\boar.633bcb88-d6bd-11eb-9dcd-dc1ba1f141a3.jpg -> Annotation:D:/project_tensorflow/TFODCourse/Tensorflow/workspace/images/collectedimages/boar/boar.633bcb88-d6bd-11eb-9dcd-dc1ba1f141a3.xml\n",
      "Image:D:\\project_tensorflow\\TFODCourse\\Tensorflow\\workspace\\images\\collectedimages\\boar\\boar.37048b4b-d6be-11eb-8127-dc1ba1f141a3.jpg -> Annotation:D:/project_tensorflow/TFODCourse/Tensorflow/workspace/images/collectedimages/boar/boar.37048b4b-d6be-11eb-8127-dc1ba1f141a3.xml\n",
      "Image:D:\\project_tensorflow\\TFODCourse\\Tensorflow\\workspace\\images\\collectedimages\\monkey\\monkey.6e56f755-d6bd-11eb-96f3-dc1ba1f141a3.jpg -> Annotation:D:/project_tensorflow/TFODCourse/Tensorflow/workspace/images/collectedimages/monkey/monkey.6e56f755-d6bd-11eb-96f3-dc1ba1f141a3.xml\n",
      "Image:D:\\project_tensorflow\\TFODCourse\\Tensorflow\\workspace\\images\\collectedimages\\monkey\\monkey.7cb94c92-d6bd-11eb-9814-dc1ba1f141a3.jpg -> Annotation:D:/project_tensorflow/TFODCourse/Tensorflow/workspace/images/collectedimages/monkey/monkey.7cb94c92-d6bd-11eb-9814-dc1ba1f141a3.xml\n",
      "Image:D:\\project_tensorflow\\TFODCourse\\Tensorflow\\workspace\\images\\collectedimages\\monkey\\monkey.8b1a757a-d6bd-11eb-8787-dc1ba1f141a3.jpg -> Annotation:D:/project_tensorflow/TFODCourse/Tensorflow/workspace/images/collectedimages/monkey/monkey.8b1a757a-d6bd-11eb-8787-dc1ba1f141a3.xml\n",
      "Cancel creation.\n",
      "Image:D:\\project_tensorflow\\TFODCourse\\Tensorflow\\workspace\\images\\collectedimages\\monkey\\monkey.71f0079f-d6bd-11eb-b0d4-dc1ba1f141a3.jpg -> Annotation:D:/project_tensorflow/TFODCourse/Tensorflow/workspace/images/collectedimages/monkey/monkey.71f0079f-d6bd-11eb-b0d4-dc1ba1f141a3.xml\n",
      "Image:D:\\project_tensorflow\\TFODCourse\\Tensorflow\\workspace\\images\\collectedimages\\monkey\\monkey.83ec4dca-d6bd-11eb-a45f-dc1ba1f141a3.jpg -> Annotation:D:/project_tensorflow/TFODCourse/Tensorflow/workspace/images/collectedimages/monkey/monkey.83ec4dca-d6bd-11eb-a45f-dc1ba1f141a3.xml\n",
      "Image:D:\\project_tensorflow\\TFODCourse\\Tensorflow\\workspace\\images\\collectedimages\\monkey\\monkey.7588b455-d6bd-11eb-a0ab-dc1ba1f141a3.jpg -> Annotation:D:/project_tensorflow/TFODCourse/Tensorflow/workspace/images/collectedimages/monkey/monkey.7588b455-d6bd-11eb-a0ab-dc1ba1f141a3.xml\n",
      "Image:D:\\project_tensorflow\\TFODCourse\\Tensorflow\\workspace\\images\\collectedimages\\monkey\\monkey.7920e4ee-d6bd-11eb-a064-dc1ba1f141a3.jpg -> Annotation:D:/project_tensorflow/TFODCourse/Tensorflow/workspace/images/collectedimages/monkey/monkey.7920e4ee-d6bd-11eb-a064-dc1ba1f141a3.xml\n",
      "Image:D:\\project_tensorflow\\TFODCourse\\Tensorflow\\workspace\\images\\collectedimages\\monkey\\monkey.805351ae-d6bd-11eb-8a94-dc1ba1f141a3.jpg -> Annotation:D:/project_tensorflow/TFODCourse/Tensorflow/workspace/images/collectedimages/monkey/monkey.805351ae-d6bd-11eb-8a94-dc1ba1f141a3.xml\n",
      "Cancel creation.\n",
      "Image:D:\\project_tensorflow\\TFODCourse\\Tensorflow\\workspace\\images\\collectedimages\\monkey\\monkey.878408fc-d6bd-11eb-89e6-dc1ba1f141a3.jpg -> Annotation:D:/project_tensorflow/TFODCourse/Tensorflow/workspace/images/collectedimages/monkey/monkey.878408fc-d6bd-11eb-89e6-dc1ba1f141a3.xml\n",
      "Image:D:\\project_tensorflow\\TFODCourse\\Tensorflow\\workspace\\images\\collectedimages\\shadowclone\\shadowclone.0c5764b4-d6bd-11eb-8c44-dc1ba1f141a3.jpg -> Annotation:D:/project_tensorflow/TFODCourse/Tensorflow/workspace/images/collectedimages/shadowclone/shadowclone.0c5764b4-d6bd-11eb-8c44-dc1ba1f141a3.xml\n",
      "Image:D:\\project_tensorflow\\TFODCourse\\Tensorflow\\workspace\\images\\collectedimages\\shadowclone\\shadowclone.0fefb2b9-d6bd-11eb-8959-dc1ba1f141a3.jpg -> Annotation:D:/project_tensorflow/TFODCourse/Tensorflow/workspace/images/collectedimages/shadowclone/shadowclone.0fefb2b9-d6bd-11eb-8959-dc1ba1f141a3.xml\n",
      "Image:D:\\project_tensorflow\\TFODCourse\\Tensorflow\\workspace\\images\\collectedimages\\shadowclone\\shadowclone.7c27f125-d6be-11eb-aefe-dc1ba1f141a3.jpg -> Annotation:D:/project_tensorflow/TFODCourse/Tensorflow/workspace/images/collectedimages/shadowclone/shadowclone.7c27f125-d6be-11eb-aefe-dc1ba1f141a3.xml\n",
      "Cancel creation.\n",
      "Image:D:\\project_tensorflow\\TFODCourse\\Tensorflow\\workspace\\images\\collectedimages\\shadowclone\\shadowclone.7fc2a253-d6be-11eb-bdd7-dc1ba1f141a3.jpg -> Annotation:D:/project_tensorflow/TFODCourse/Tensorflow/workspace/images/collectedimages/shadowclone/shadowclone.7fc2a253-d6be-11eb-bdd7-dc1ba1f141a3.xml\n",
      "Image:D:\\project_tensorflow\\TFODCourse\\Tensorflow\\workspace\\images\\collectedimages\\shadowclone\\shadowclone.8a894ad9-d6be-11eb-9d5d-dc1ba1f141a3.jpg -> Annotation:D:/project_tensorflow/TFODCourse/Tensorflow/workspace/images/collectedimages/shadowclone/shadowclone.8a894ad9-d6be-11eb-9d5d-dc1ba1f141a3.xml\n",
      "Image:D:\\project_tensorflow\\TFODCourse\\Tensorflow\\workspace\\images\\collectedimages\\shadowclone\\shadowclone.08c0e696-d6bd-11eb-9468-dc1ba1f141a3.jpg -> Annotation:D:/project_tensorflow/TFODCourse/Tensorflow/workspace/images/collectedimages/shadowclone/shadowclone.08c0e696-d6bd-11eb-9468-dc1ba1f141a3.xml\n",
      "Image:D:\\project_tensorflow\\TFODCourse\\Tensorflow\\workspace\\images\\collectedimages\\shadowclone\\shadowclone.8e2169e9-d6be-11eb-ba00-dc1ba1f141a3.jpg -> Annotation:D:/project_tensorflow/TFODCourse/Tensorflow/workspace/images/collectedimages/shadowclone/shadowclone.8e2169e9-d6be-11eb-ba00-dc1ba1f141a3.xml\n",
      "Image:D:\\project_tensorflow\\TFODCourse\\Tensorflow\\workspace\\images\\collectedimages\\shadowclone\\shadowclone.018e56e0-d6bd-11eb-90a7-dc1ba1f141a3.jpg -> Annotation:D:/project_tensorflow/TFODCourse/Tensorflow/workspace/images/collectedimages/shadowclone/shadowclone.018e56e0-d6bd-11eb-90a7-dc1ba1f141a3.xml\n",
      "Image:D:\\project_tensorflow\\TFODCourse\\Tensorflow\\workspace\\images\\collectedimages\\shadowclone\\shadowclone.86f0f860-d6be-11eb-b4a3-dc1ba1f141a3.jpg -> Annotation:D:/project_tensorflow/TFODCourse/Tensorflow/workspace/images/collectedimages/shadowclone/shadowclone.86f0f860-d6be-11eb-b4a3-dc1ba1f141a3.xml\n",
      "Image:D:\\project_tensorflow\\TFODCourse\\Tensorflow\\workspace\\images\\collectedimages\\shadowclone\\shadowclone.0526d5e1-d6bd-11eb-ab14-dc1ba1f141a3.jpg -> Annotation:D:/project_tensorflow/TFODCourse/Tensorflow/workspace/images/collectedimages/shadowclone/shadowclone.0526d5e1-d6bd-11eb-ab14-dc1ba1f141a3.xml\n",
      "Image:D:\\project_tensorflow\\TFODCourse\\Tensorflow\\workspace\\images\\collectedimages\\shadowclone\\shadowclone.8358f014-d6be-11eb-af6f-dc1ba1f141a3.jpg -> Annotation:D:/project_tensorflow/TFODCourse/Tensorflow/workspace/images/collectedimages/shadowclone/shadowclone.8358f014-d6be-11eb-af6f-dc1ba1f141a3.xml\n",
      "Cancel creation.\n",
      "Image:D:\\project_tensorflow\\TFODCourse\\Tensorflow\\workspace\\images\\collectedimages\\shadowclone\\shadowclone.71624e77-d6be-11eb-8c5a-dc1ba1f141a3.jpg -> Annotation:D:/project_tensorflow/TFODCourse/Tensorflow/workspace/images/collectedimages/shadowclone/shadowclone.71624e77-d6be-11eb-8c5a-dc1ba1f141a3.xml\n",
      "Image:D:\\project_tensorflow\\TFODCourse\\Tensorflow\\workspace\\images\\collectedimages\\shadowclone\\shadowclone.fa5ce147-d6bc-11eb-90e0-dc1ba1f141a3.jpg -> Annotation:D:/project_tensorflow/TFODCourse/Tensorflow/workspace/images/collectedimages/shadowclone/shadowclone.fa5ce147-d6bc-11eb-90e0-dc1ba1f141a3.xml\n",
      "Image:D:\\project_tensorflow\\TFODCourse\\Tensorflow\\workspace\\images\\collectedimages\\shadowclone\\shadowclone.fdf63a58-d6bc-11eb-985c-dc1ba1f141a3.jpg -> Annotation:D:/project_tensorflow/TFODCourse/Tensorflow/workspace/images/collectedimages/shadowclone/shadowclone.fdf63a58-d6bc-11eb-985c-dc1ba1f141a3.xml\n",
      "Image:D:\\project_tensorflow\\TFODCourse\\Tensorflow\\workspace\\images\\collectedimages\\tiger\\tiger.2d07bd0d-d6bd-11eb-a9c8-dc1ba1f141a3.jpg -> Annotation:D:/project_tensorflow/TFODCourse/Tensorflow/workspace/images/collectedimages/tiger/tiger.2d07bd0d-d6bd-11eb-a9c8-dc1ba1f141a3.xml\n",
      "Image:D:\\project_tensorflow\\TFODCourse\\Tensorflow\\workspace\\images\\collectedimages\\tiger\\tiger.3b645545-d6bd-11eb-9125-dc1ba1f141a3.jpg -> Annotation:D:/project_tensorflow/TFODCourse/Tensorflow/workspace/images/collectedimages/tiger/tiger.3b645545-d6bd-11eb-9125-dc1ba1f141a3.xml\n",
      "Image:D:\\project_tensorflow\\TFODCourse\\Tensorflow\\workspace\\images\\collectedimages\\tiger\\tiger.25d91da8-d6bd-11eb-a1d0-dc1ba1f141a3.jpg -> Annotation:D:/project_tensorflow/TFODCourse/Tensorflow/workspace/images/collectedimages/tiger/tiger.25d91da8-d6bd-11eb-a1d0-dc1ba1f141a3.xml\n",
      "Image:D:\\project_tensorflow\\TFODCourse\\Tensorflow\\workspace\\images\\collectedimages\\tiger\\tiger.37cbf01c-d6bd-11eb-8088-dc1ba1f141a3.jpg -> Annotation:D:/project_tensorflow/TFODCourse/Tensorflow/workspace/images/collectedimages/tiger/tiger.37cbf01c-d6bd-11eb-8088-dc1ba1f141a3.xml\n",
      "Image:D:\\project_tensorflow\\TFODCourse\\Tensorflow\\workspace\\images\\collectedimages\\tiger\\tiger.309db075-d6bd-11eb-9d94-dc1ba1f141a3.jpg -> Annotation:D:/project_tensorflow/TFODCourse/Tensorflow/workspace/images/collectedimages/tiger/tiger.309db075-d6bd-11eb-9d94-dc1ba1f141a3.xml\n",
      "Image:D:\\project_tensorflow\\TFODCourse\\Tensorflow\\workspace\\images\\collectedimages\\tiger\\tiger.3434cc9b-d6bd-11eb-8f54-dc1ba1f141a3.jpg -> Annotation:D:/project_tensorflow/TFODCourse/Tensorflow/workspace/images/collectedimages/tiger/tiger.3434cc9b-d6bd-11eb-8f54-dc1ba1f141a3.xml\n"
     ]
    },
    {
     "name": "stderr",
     "output_type": "stream",
     "text": [
      "D:\\project_tensorflow\\TFODCourse\\Tensorflow\\labelimg\\labelImg.py:965: DeprecationWarning: an integer is required (got type float).  Implicit conversion to integers using __int__ is deprecated, and may be removed in a future version of Python.\n",
      "  bar.setValue(bar.value() + bar.singleStep() * units)\n"
     ]
    }
   ],
   "source": [
    "!cd {LABELIMG_PATH} && python labelImg.py"
   ]
  },
  {
   "cell_type": "markdown",
   "metadata": {},
   "source": [
    "# 6. Move them into a Training and Testing Partition"
   ]
  },
  {
   "cell_type": "markdown",
   "metadata": {},
   "source": [
    "# OPTIONAL - 7. Compress them for Colab Training"
   ]
  },
  {
   "cell_type": "code",
   "execution_count": 3,
   "metadata": {},
   "outputs": [],
   "source": [
    "TRAIN_PATH = os.path.join('Tensorflow', 'workspace', 'images', 'train')\n",
    "TEST_PATH = os.path.join('Tensorflow', 'workspace', 'images', 'test')\n",
    "ARCHIVE_PATH = os.path.join('Tensorflow', 'workspace', 'images', 'archive.tar.gz')"
   ]
  },
  {
   "cell_type": "code",
   "execution_count": 4,
   "metadata": {},
   "outputs": [],
   "source": [
    "!tar -czf {ARCHIVE_PATH} {TRAIN_PATH} {TEST_PATH}"
   ]
  },
  {
   "cell_type": "code",
   "execution_count": null,
   "metadata": {},
   "outputs": [],
   "source": []
  }
 ],
 "metadata": {
  "kernelspec": {
   "display_name": "tfod",
   "language": "python",
   "name": "tfod"
  },
  "language_info": {
   "codemirror_mode": {
    "name": "ipython",
    "version": 3
   },
   "file_extension": ".py",
   "mimetype": "text/x-python",
   "name": "python",
   "nbconvert_exporter": "python",
   "pygments_lexer": "ipython3",
   "version": "3.9.0"
  }
 },
 "nbformat": 4,
 "nbformat_minor": 2
}
